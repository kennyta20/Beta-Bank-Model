{
 "cells": [
  {
   "cell_type": "markdown",
   "metadata": {},
   "source": [
    "# Introducción"
   ]
  },
  {
   "cell_type": "markdown",
   "metadata": {},
   "source": [
    "El sector bancario enfrenta desafíos significativos relacionados con la retención de clientes, un problema que afecta directamente la rentabilidad y sostenibilidad de las instituciones financieras. En Beta Bank, la pérdida gradual de clientes representa una preocupación creciente, ya que estudios han demostrado que retener a los clientes existentes es más eficiente y económico que adquirir nuevos. Ante esta situación, el banco busca implementar una solución basada en datos para identificar y predecir a los clientes propensos a abandonar, con el objetivo de tomar medidas preventivas y mejorar la experiencia del cliente."
   ]
  },
  {
   "cell_type": "code",
   "execution_count": 1,
   "metadata": {},
   "outputs": [],
   "source": [
    "import pandas as pd\n",
    "from sklearn.model_selection import train_test_split\n",
    "from sklearn.ensemble import RandomForestClassifier\n",
    "from sklearn.preprocessing import StandardScaler\n",
    "from sklearn.metrics import f1_score\n",
    "from sklearn.metrics import roc_auc_score\n",
    "from sklearn.utils import shuffle"
   ]
  },
  {
   "cell_type": "code",
   "execution_count": 2,
   "metadata": {},
   "outputs": [],
   "source": [
    "data = pd.read_csv('/datasets/Churn.csv')"
   ]
  },
  {
   "cell_type": "markdown",
   "metadata": {},
   "source": [
    "# Exploración de dataset"
   ]
  },
  {
   "cell_type": "code",
   "execution_count": 3,
   "metadata": {},
   "outputs": [
    {
     "name": "stdout",
     "output_type": "stream",
     "text": [
      "<class 'pandas.core.frame.DataFrame'>\n",
      "RangeIndex: 10000 entries, 0 to 9999\n",
      "Data columns (total 14 columns):\n",
      " #   Column           Non-Null Count  Dtype  \n",
      "---  ------           --------------  -----  \n",
      " 0   RowNumber        10000 non-null  int64  \n",
      " 1   CustomerId       10000 non-null  int64  \n",
      " 2   Surname          10000 non-null  object \n",
      " 3   CreditScore      10000 non-null  int64  \n",
      " 4   Geography        10000 non-null  object \n",
      " 5   Gender           10000 non-null  object \n",
      " 6   Age              10000 non-null  int64  \n",
      " 7   Tenure           9091 non-null   float64\n",
      " 8   Balance          10000 non-null  float64\n",
      " 9   NumOfProducts    10000 non-null  int64  \n",
      " 10  HasCrCard        10000 non-null  int64  \n",
      " 11  IsActiveMember   10000 non-null  int64  \n",
      " 12  EstimatedSalary  10000 non-null  float64\n",
      " 13  Exited           10000 non-null  int64  \n",
      "dtypes: float64(3), int64(8), object(3)\n",
      "memory usage: 1.1+ MB\n",
      "None\n"
     ]
    }
   ],
   "source": [
    "print(data.info())"
   ]
  },
  {
   "cell_type": "code",
   "execution_count": 4,
   "metadata": {},
   "outputs": [
    {
     "name": "stdout",
     "output_type": "stream",
     "text": [
      "   RowNumber  CustomerId   Surname  CreditScore Geography  Gender  Age  \\\n",
      "0          1    15634602  Hargrave          619    France  Female   42   \n",
      "1          2    15647311      Hill          608     Spain  Female   41   \n",
      "2          3    15619304      Onio          502    France  Female   42   \n",
      "3          4    15701354      Boni          699    France  Female   39   \n",
      "4          5    15737888  Mitchell          850     Spain  Female   43   \n",
      "\n",
      "   Tenure    Balance  NumOfProducts  HasCrCard  IsActiveMember  \\\n",
      "0     2.0       0.00              1          1               1   \n",
      "1     1.0   83807.86              1          0               1   \n",
      "2     8.0  159660.80              3          1               0   \n",
      "3     1.0       0.00              2          0               0   \n",
      "4     2.0  125510.82              1          1               1   \n",
      "\n",
      "   EstimatedSalary  Exited  \n",
      "0        101348.88       1  \n",
      "1        112542.58       0  \n",
      "2        113931.57       1  \n",
      "3         93826.63       0  \n",
      "4         79084.10       0  \n"
     ]
    }
   ],
   "source": [
    "print(data.head())"
   ]
  },
  {
   "cell_type": "markdown",
   "metadata": {},
   "source": [
    "En la exploración inicial del dataset se observa que contiene 10,000 registros con 14 columnas, donde la mayoría de las características están completas, excepto la columna Tenure, que presenta algunos valores faltantes. Las variables incluyen información demográfica y financiera de los clientes, como CreditScore, Geography, Gender, Age, Balance, y EstimatedSalary, junto con la variable objetivo Exited, que indica si el cliente dejó el banco. Además, las columnas categóricas como Geography y Gender deberán ser codificadas para el modelo, y se debe abordar el manejo de los valores nulos en Tenure antes de proceder con el análisis y la construcción del modelo de machine learning."
   ]
  },
  {
   "cell_type": "markdown",
   "metadata": {},
   "source": [
    "# Preparación de datos"
   ]
  },
  {
   "cell_type": "code",
   "execution_count": 5,
   "metadata": {},
   "outputs": [],
   "source": [
    "data = pd.get_dummies(data, columns=['Geography', 'Gender'], drop_first=True)\n",
    "\n",
    "scaler = StandardScaler()\n",
    "numeric_columns = ['CreditScore', 'Age', 'Tenure', 'Balance', 'NumOfProducts', 'EstimatedSalary']\n",
    "data[numeric_columns] = scaler.fit_transform(data[numeric_columns])\n"
   ]
  },
  {
   "cell_type": "code",
   "execution_count": 6,
   "metadata": {},
   "outputs": [],
   "source": [
    "features = data.drop(columns=['Exited', 'RowNumber', 'CustomerId', 'Surname'])\n",
    "target = data['Exited']\n",
    "features.fillna(features.mean(), inplace=True)"
   ]
  },
  {
   "cell_type": "markdown",
   "metadata": {},
   "source": [
    "Este paso separa las características que el modelo utilizará para hacer predicciones (features) y la variable objetivo que queremos predecir (target). La razón por la que elimine varias columnas, y no solo la columna Exited, es porque algunas de esas columnas no contienen información relevante para la predicción. Además se encontro que features tienen valores nulos, como Random Forest, no pueden trabajar con estos valores. Para solucionarlo, rellenamos los valores faltantes con la media de cada columna o eliminamos las filas incompletas. "
   ]
  },
  {
   "cell_type": "markdown",
   "metadata": {},
   "source": [
    "# Dividir el conjunto de datos"
   ]
  },
  {
   "cell_type": "code",
   "execution_count": 7,
   "metadata": {},
   "outputs": [],
   "source": [
    "features_train, features_test, target_train, target_test = train_test_split(features, target, test_size=0.25, random_state=12345)"
   ]
  },
  {
   "cell_type": "markdown",
   "metadata": {},
   "source": [
    "# Examinen de equilibrio de clases"
   ]
  },
  {
   "cell_type": "code",
   "execution_count": 8,
   "metadata": {},
   "outputs": [
    {
     "name": "stdout",
     "output_type": "stream",
     "text": [
      "0    0.7963\n",
      "1    0.2037\n",
      "Name: Exited, dtype: float64\n"
     ]
    }
   ],
   "source": [
    "\n",
    "print(target.value_counts(normalize=True))\n"
   ]
  },
  {
   "cell_type": "markdown",
   "metadata": {},
   "source": [
    "Al examinar el equilibrio de clases en el conjunto de datos, observamos un desequilibrio significativo. Aproximadamente el 79.63% de los clientes permanecen con el banco (clase 0), mientras que solo el 20.37% de los clientes han dejado el banco (clase 1). Este desequilibrio sugiere que el modelo podría verse sesgado hacia la clase mayoritaria, prediciendo con mayor frecuencia que los clientes no abandonarán el banco. Para abordar este problema y mejorar la capacidad del modelo para predecir correctamente los clientes que abandonan, será importante implementar técnicas para lidiar con el desequilibrio, como el ajuste de pesos de clase, sobremuestreo de la clase minoritaria o submuestreo de la clase mayoritaria."
   ]
  },
  {
   "cell_type": "markdown",
   "metadata": {},
   "source": [
    "# Entrenar el modelo sin abordar el desequilibrio"
   ]
  },
  {
   "cell_type": "code",
   "execution_count": 9,
   "metadata": {},
   "outputs": [
    {
     "name": "stdout",
     "output_type": "stream",
     "text": [
      "F1-Score sin abordar el desequilibrio: 0.562200956937799\n"
     ]
    }
   ],
   "source": [
    "model = RandomForestClassifier(random_state=12345)\n",
    "model.fit(features_train, target_train)\n",
    "target_pred = model.predict(features_test)\n",
    "f1 = f1_score(target_test, target_pred)\n",
    "\n",
    "print(f'F1-Score sin abordar el desequilibrio: {f1}')"
   ]
  },
  {
   "cell_type": "markdown",
   "metadata": {},
   "source": [
    "\n",
    "El resultado obtenido de un F1-Score de 0.5622 indica que el modelo de Random Forest sin abordar el desequilibrio de clases no está logrando un buen balance entre precisión y recall. Aunque el rendimiento no está muy lejos del umbral requerido de 0.59, sigue mostrando dificultades para identificar correctamente los clientes que abandonan el banco. Este resultado sugiere que el desequilibrio de clases está afectando la capacidad del modelo para predecir de manera adecuada los casos positivos (clientes que se van), lo que hace necesario aplicar técnicas que ayuden a manejar este desequilibrio, como ajustar los pesos de las clases o utilizar métodos de sobremuestreo."
   ]
  },
  {
   "cell_type": "markdown",
   "metadata": {},
   "source": [
    "# Evaluar con AUC-ROC"
   ]
  },
  {
   "cell_type": "code",
   "execution_count": 10,
   "metadata": {},
   "outputs": [
    {
     "name": "stdout",
     "output_type": "stream",
     "text": [
      "AUC-ROC: 0.8523906684739958\n"
     ]
    }
   ],
   "source": [
    "probabilities = model.predict_proba(features_test)[:, 1]\n",
    "auc_roc = roc_auc_score(target_test, probabilities)\n",
    "print(f'AUC-ROC: {auc_roc}')"
   ]
  },
  {
   "cell_type": "markdown",
   "metadata": {},
   "source": [
    "El AUC-ROC obtenido de 0.852 es un resultado muy positivo. Indica que el modelo tiene una capacidad fuerte para distinguir entre los clientes que abandonan el banco y los que no. Un valor de AUC-ROC cercano a 1 sugiere que el modelo está tomando decisiones precisas en la mayoría de los casos, lo que es un buen indicador del rendimiento general del modelo, especialmente en un escenario con desequilibrio de clases. Este valor es significativamente mejor que un modelo aleatorio, que tendría un AUC-ROC de 0.5."
   ]
  },
  {
   "cell_type": "markdown",
   "metadata": {},
   "source": [
    "# Enfoque 1: Ajuste de peso en clase"
   ]
  },
  {
   "cell_type": "code",
   "execution_count": 11,
   "metadata": {},
   "outputs": [],
   "source": [
    "model_weighted = RandomForestClassifier(random_state=12345, class_weight='balanced')\n",
    "model_weighted.fit(features_train, target_train)\n",
    "target_pred_weighted = model_weighted.predict(features_test)"
   ]
  },
  {
   "cell_type": "code",
   "execution_count": 12,
   "metadata": {},
   "outputs": [
    {
     "name": "stdout",
     "output_type": "stream",
     "text": [
      "F1-Score con class_weight=\"balance\": 0.5721096543504172\n",
      "AUC-ROC con class_weight=\"balanced\": 0.8558036669758151\n"
     ]
    }
   ],
   "source": [
    "f1_wighted = f1_score(target_test, target_pred_weighted)\n",
    "probabilities_weighted = model_weighted.predict_proba(features_test)[:,1]\n",
    "auc_roc_weighted = roc_auc_score(target_test, probabilities_weighted)\n",
    "\n",
    "print(f'F1-Score con class_weight=\"balance\": {f1_wighted}')\n",
    "print(f'AUC-ROC con class_weight=\"balanced\": {auc_roc_weighted}')"
   ]
  },
  {
   "cell_type": "markdown",
   "metadata": {},
   "source": [
    "Los resultados del ajuste de peso de clase utilizando class_weight=\"balanced\" han mejorado ligeramente el rendimiento del modelo. El F1-Score ha subido a 0.5721, lo que representa una mejora respecto al valor inicial, pero aún no alcanza el umbral requerido de 0.59. Sin embargo, el valor de AUC-ROC ha aumentado a 0.8558, lo cual es un buen indicio de que el modelo es capaz de distinguir entre las clases de manera más efectiva. "
   ]
  },
  {
   "cell_type": "markdown",
   "metadata": {},
   "source": [
    "# Enfoque 2: Sobremuestreo de la clase minoritaria"
   ]
  },
  {
   "cell_type": "code",
   "execution_count": 13,
   "metadata": {},
   "outputs": [
    {
     "name": "stdout",
     "output_type": "stream",
     "text": [
      "F1-Score con sobremuestreo: 0.6035751840168245\n",
      "AUC-ROC con sobremuestreo: 0.8496963211338613\n"
     ]
    }
   ],
   "source": [
    "def upsample (features, target, repeat):\n",
    "    features_zeros = features[target == 0]\n",
    "    features_ones = features[target == 1]\n",
    "    target_zeros = target[target == 0]\n",
    "    target_ones = target[target == 1 ]\n",
    "    features_upsampled = pd.concat([features_zeros] + [features_ones] * repeat)\n",
    "    target_upsampled = pd.concat([target_zeros] + [target_ones] * repeat)\n",
    "    \n",
    "    features_upsampled, target_upsampled = shuffle(features_upsampled, target_upsampled, random_state=12345)\n",
    "    return features_upsampled, target_upsampled\n",
    "    \n",
    "features_upsampled, target_upsampled = upsample(features_train, target_train, 10)\n",
    "\n",
    "\n",
    "model = RandomForestClassifier(random_state=12345)\n",
    "model.fit(features_upsampled, target_upsampled)\n",
    "\n",
    "target_pred =model.predict(features_test)\n",
    "f1 = f1_score(target_test, target_pred)\n",
    "\n",
    "probabilities = model.predict_proba(features_test)[:,1]\n",
    "auc_roc = roc_auc_score(target_test, probabilities)\n",
    "\n",
    "\n",
    "print(f'F1-Score con sobremuestreo: {f1}')\n",
    "print(f'AUC-ROC con sobremuestreo: {auc_roc}')"
   ]
  },
  {
   "cell_type": "markdown",
   "metadata": {},
   "source": [
    "En el segundo enfoque de sobremuestreo, logramos mejorar el F1-Score a 0.6035, superando el valor mínimo requerido de 0.59, lo que indica que el modelo está mejor equilibrado para identificar correctamente las clases minoritarias. Además, el AUC-ROC se mantiene en un valor sólido de 0.8496, lo cual refleja que el modelo sigue siendo bastante efectivo en términos de separación entre las clases positivas y negativas. Este enfoque demuestra que el sobremuestreo ayuda a mejorar la capacidad del modelo para predecir correctamente los casos en los que los clientes abandonan el banco, sin sacrificar demasiado la capacidad general de clasificación."
   ]
  },
  {
   "cell_type": "markdown",
   "metadata": {},
   "source": [
    "# Resultado final"
   ]
  },
  {
   "cell_type": "markdown",
   "metadata": {},
   "source": [
    "Enfoque 1: Ajuste de peso en clase\n",
    "F1-Score: 0.5721\n",
    "AUC-ROC: 0.8558\n",
    "Enfoque 2: Sobremuestreo de la clase minoritaria\n",
    "F1-Score: 0.6036\n",
    "AUC-ROC: 0.8497"
   ]
  },
  {
   "cell_type": "markdown",
   "metadata": {},
   "source": [
    "Aunque el AUC-ROC es ligeramente superior en el enfoque de ajuste de pesos (Enfoque 1), el F1-Score es más alto en el enfoque de sobremuestreo (Enfoque 2). Esto indica que el modelo con sobremuestreo tiene un mejor equilibrio entre precisión y recall, lo cual es clave en un escenario con desequilibrio de clases. Por lo tanto, a pesar de la pequeña diferencia en el AUC-ROC, parece que el sobremuestreo de la clase minoritaria es la mejor estrategia en este caso, ya que mejora el F1-Score, lo que indica un mejor rendimiento general en la clasificación de los clientes que abandonan el banco."
   ]
  }
 ],
 "metadata": {
  "ExecuteTimeLog": [
   {
    "duration": 672,
    "start_time": "2024-10-28T05:03:35.740Z"
   },
   {
    "duration": 249,
    "start_time": "2024-10-28T05:09:55.834Z"
   },
   {
    "duration": 7,
    "start_time": "2024-10-28T05:11:07.667Z"
   },
   {
    "duration": 3,
    "start_time": "2024-10-28T05:11:34.476Z"
   },
   {
    "duration": 116,
    "start_time": "2024-10-28T05:12:29.810Z"
   },
   {
    "duration": 4,
    "start_time": "2024-10-28T05:12:30.528Z"
   },
   {
    "duration": 4,
    "start_time": "2024-10-28T05:12:43.034Z"
   },
   {
    "duration": 20,
    "start_time": "2024-10-28T05:12:43.527Z"
   },
   {
    "duration": 4,
    "start_time": "2024-10-28T05:12:44.689Z"
   },
   {
    "duration": 3,
    "start_time": "2024-10-28T05:13:53.423Z"
   },
   {
    "duration": 15,
    "start_time": "2024-10-28T05:13:54.701Z"
   },
   {
    "duration": 3,
    "start_time": "2024-10-28T05:13:55.418Z"
   },
   {
    "duration": 10,
    "start_time": "2024-10-28T05:24:55.346Z"
   },
   {
    "duration": 9,
    "start_time": "2024-10-28T05:25:14.476Z"
   },
   {
    "duration": 775,
    "start_time": "2024-10-28T06:35:33.387Z"
   },
   {
    "duration": 26,
    "start_time": "2024-10-28T06:35:34.165Z"
   },
   {
    "duration": 10,
    "start_time": "2024-10-28T06:35:34.193Z"
   },
   {
    "duration": 6,
    "start_time": "2024-10-28T06:35:34.205Z"
   },
   {
    "duration": 3,
    "start_time": "2024-10-28T06:35:34.214Z"
   },
   {
    "duration": 822,
    "start_time": "2024-10-28T08:28:50.921Z"
   },
   {
    "duration": 22,
    "start_time": "2024-10-28T08:28:52.351Z"
   },
   {
    "duration": 11,
    "start_time": "2024-10-28T08:28:53.348Z"
   },
   {
    "duration": 9,
    "start_time": "2024-10-28T08:28:53.931Z"
   },
   {
    "duration": 22,
    "start_time": "2024-10-28T08:28:55.300Z"
   },
   {
    "duration": 4,
    "start_time": "2024-10-28T08:28:55.947Z"
   },
   {
    "duration": 6,
    "start_time": "2024-10-28T08:31:25.374Z"
   },
   {
    "duration": 12,
    "start_time": "2024-10-28T08:37:53.357Z"
   },
   {
    "duration": 376,
    "start_time": "2024-10-28T08:48:13.075Z"
   },
   {
    "duration": 118,
    "start_time": "2024-10-28T08:48:47.553Z"
   },
   {
    "duration": 3,
    "start_time": "2024-10-28T08:48:51.108Z"
   },
   {
    "duration": 16,
    "start_time": "2024-10-28T08:48:51.316Z"
   },
   {
    "duration": 13,
    "start_time": "2024-10-28T08:48:51.665Z"
   },
   {
    "duration": 6,
    "start_time": "2024-10-28T08:48:51.866Z"
   },
   {
    "duration": 20,
    "start_time": "2024-10-28T08:48:52.377Z"
   },
   {
    "duration": 4,
    "start_time": "2024-10-28T08:48:52.775Z"
   },
   {
    "duration": 5,
    "start_time": "2024-10-28T08:48:53.826Z"
   },
   {
    "duration": 4,
    "start_time": "2024-10-28T08:48:54.390Z"
   },
   {
    "duration": 65,
    "start_time": "2024-10-28T08:48:55.609Z"
   },
   {
    "duration": 780,
    "start_time": "2024-10-28T15:07:33.597Z"
   },
   {
    "duration": 25,
    "start_time": "2024-10-28T15:07:34.380Z"
   },
   {
    "duration": 12,
    "start_time": "2024-10-28T15:07:35.659Z"
   },
   {
    "duration": 8,
    "start_time": "2024-10-28T15:07:36.717Z"
   },
   {
    "duration": 19,
    "start_time": "2024-10-28T15:07:38.989Z"
   },
   {
    "duration": 3,
    "start_time": "2024-10-28T15:07:39.526Z"
   },
   {
    "duration": 4,
    "start_time": "2024-10-28T15:07:55.133Z"
   },
   {
    "duration": 4,
    "start_time": "2024-10-28T15:07:56.149Z"
   },
   {
    "duration": 376,
    "start_time": "2024-10-28T15:07:58.728Z"
   },
   {
    "duration": 9,
    "start_time": "2024-10-28T15:09:21.973Z"
   },
   {
    "duration": 5,
    "start_time": "2024-10-28T15:09:24.057Z"
   },
   {
    "duration": 4,
    "start_time": "2024-10-28T15:09:24.845Z"
   },
   {
    "duration": 753,
    "start_time": "2024-10-28T15:09:26.080Z"
   },
   {
    "duration": 3,
    "start_time": "2024-10-28T15:17:40.310Z"
   },
   {
    "duration": 16,
    "start_time": "2024-10-28T15:17:40.489Z"
   },
   {
    "duration": 10,
    "start_time": "2024-10-28T15:17:40.872Z"
   },
   {
    "duration": 7,
    "start_time": "2024-10-28T15:17:41.068Z"
   },
   {
    "duration": 20,
    "start_time": "2024-10-28T15:17:41.657Z"
   },
   {
    "duration": 9,
    "start_time": "2024-10-28T15:17:41.989Z"
   },
   {
    "duration": 5,
    "start_time": "2024-10-28T15:17:43.103Z"
   },
   {
    "duration": 4,
    "start_time": "2024-10-28T15:17:44.114Z"
   },
   {
    "duration": 746,
    "start_time": "2024-10-28T15:17:45.416Z"
   },
   {
    "duration": 3,
    "start_time": "2024-10-28T15:23:44.908Z"
   },
   {
    "duration": 15,
    "start_time": "2024-10-28T15:23:45.352Z"
   },
   {
    "duration": 9,
    "start_time": "2024-10-28T15:23:45.740Z"
   },
   {
    "duration": 7,
    "start_time": "2024-10-28T15:23:45.934Z"
   },
   {
    "duration": 17,
    "start_time": "2024-10-28T15:23:46.581Z"
   },
   {
    "duration": 6,
    "start_time": "2024-10-28T15:23:46.812Z"
   },
   {
    "duration": 6,
    "start_time": "2024-10-28T15:23:47.451Z"
   },
   {
    "duration": 5,
    "start_time": "2024-10-28T15:23:47.851Z"
   },
   {
    "duration": 718,
    "start_time": "2024-10-28T15:23:48.488Z"
   },
   {
    "duration": 216,
    "start_time": "2024-10-28T15:29:50.228Z"
   },
   {
    "duration": 98,
    "start_time": "2024-10-28T15:29:55.156Z"
   },
   {
    "duration": 44,
    "start_time": "2024-10-28T15:31:35.473Z"
   },
   {
    "duration": 45,
    "start_time": "2024-10-28T15:41:33.167Z"
   },
   {
    "duration": 18,
    "start_time": "2024-10-28T15:52:53.340Z"
   },
   {
    "duration": 709,
    "start_time": "2024-10-28T15:53:10.682Z"
   },
   {
    "duration": 19,
    "start_time": "2024-10-28T15:57:32.083Z"
   },
   {
    "duration": 47,
    "start_time": "2024-10-28T15:57:37.823Z"
   },
   {
    "duration": 15,
    "start_time": "2024-10-28T16:05:53.699Z"
   },
   {
    "duration": 24,
    "start_time": "2024-10-28T16:06:11.710Z"
   },
   {
    "duration": 16,
    "start_time": "2024-10-28T16:06:11.859Z"
   },
   {
    "duration": 10,
    "start_time": "2024-10-28T16:06:12.232Z"
   },
   {
    "duration": 6,
    "start_time": "2024-10-28T16:06:12.353Z"
   },
   {
    "duration": 19,
    "start_time": "2024-10-28T16:07:07.871Z"
   },
   {
    "duration": 15,
    "start_time": "2024-10-28T16:07:08.048Z"
   },
   {
    "duration": 9,
    "start_time": "2024-10-28T16:07:08.427Z"
   },
   {
    "duration": 7,
    "start_time": "2024-10-28T16:07:08.623Z"
   },
   {
    "duration": 25,
    "start_time": "2024-10-28T16:07:09.105Z"
   },
   {
    "duration": 9,
    "start_time": "2024-10-28T16:07:09.458Z"
   },
   {
    "duration": 7,
    "start_time": "2024-10-28T16:07:09.900Z"
   },
   {
    "duration": 4,
    "start_time": "2024-10-28T16:07:10.541Z"
   },
   {
    "duration": 737,
    "start_time": "2024-10-28T16:07:11.106Z"
   },
   {
    "duration": 43,
    "start_time": "2024-10-28T16:07:11.846Z"
   },
   {
    "duration": 717,
    "start_time": "2024-10-28T16:07:12.642Z"
   },
   {
    "duration": 47,
    "start_time": "2024-10-28T16:07:13.362Z"
   },
   {
    "duration": 32,
    "start_time": "2024-10-28T16:07:13.411Z"
   },
   {
    "duration": 3,
    "start_time": "2024-10-28T16:07:25.257Z"
   },
   {
    "duration": 19,
    "start_time": "2024-10-28T16:07:52.733Z"
   },
   {
    "duration": 6,
    "start_time": "2024-10-28T16:08:08.681Z"
   },
   {
    "duration": 15,
    "start_time": "2024-10-28T16:08:13.849Z"
   },
   {
    "duration": 3,
    "start_time": "2024-10-28T16:12:35.069Z"
   },
   {
    "duration": 2,
    "start_time": "2024-10-28T16:12:50.157Z"
   },
   {
    "duration": 15,
    "start_time": "2024-10-28T16:12:50.606Z"
   },
   {
    "duration": 10,
    "start_time": "2024-10-28T16:12:51.218Z"
   },
   {
    "duration": 8,
    "start_time": "2024-10-28T16:12:51.425Z"
   },
   {
    "duration": 20,
    "start_time": "2024-10-28T16:12:52.013Z"
   },
   {
    "duration": 8,
    "start_time": "2024-10-28T16:12:52.180Z"
   },
   {
    "duration": 5,
    "start_time": "2024-10-28T16:12:52.799Z"
   },
   {
    "duration": 4,
    "start_time": "2024-10-28T16:12:53.226Z"
   },
   {
    "duration": 773,
    "start_time": "2024-10-28T16:12:53.810Z"
   },
   {
    "duration": 50,
    "start_time": "2024-10-28T16:12:54.585Z"
   },
   {
    "duration": 734,
    "start_time": "2024-10-28T16:12:55.602Z"
   },
   {
    "duration": 47,
    "start_time": "2024-10-28T16:12:56.339Z"
   },
   {
    "duration": 15,
    "start_time": "2024-10-28T16:12:56.715Z"
   },
   {
    "duration": 1545,
    "start_time": "2024-10-28T16:13:48.350Z"
   },
   {
    "duration": 5,
    "start_time": "2024-10-28T16:46:32.149Z"
   },
   {
    "duration": 354,
    "start_time": "2024-10-28T16:46:40.190Z"
   },
   {
    "duration": 1556,
    "start_time": "2024-10-28T16:48:46.656Z"
   },
   {
    "duration": 800,
    "start_time": "2024-10-28T18:15:25.671Z"
   },
   {
    "duration": 25,
    "start_time": "2024-10-28T18:15:26.474Z"
   },
   {
    "duration": 12,
    "start_time": "2024-10-28T18:15:26.502Z"
   },
   {
    "duration": 11,
    "start_time": "2024-10-28T18:15:26.517Z"
   },
   {
    "duration": 26,
    "start_time": "2024-10-28T18:15:26.530Z"
   },
   {
    "duration": 8,
    "start_time": "2024-10-28T18:15:26.558Z"
   },
   {
    "duration": 8,
    "start_time": "2024-10-28T18:15:26.568Z"
   },
   {
    "duration": 32,
    "start_time": "2024-10-28T18:15:26.579Z"
   },
   {
    "duration": 771,
    "start_time": "2024-10-28T18:15:26.613Z"
   },
   {
    "duration": 52,
    "start_time": "2024-10-28T18:15:27.387Z"
   },
   {
    "duration": 738,
    "start_time": "2024-10-28T18:15:27.443Z"
   },
   {
    "duration": 55,
    "start_time": "2024-10-28T18:15:28.183Z"
   },
   {
    "duration": 1560,
    "start_time": "2024-10-28T18:15:28.239Z"
   },
   {
    "duration": 5,
    "start_time": "2024-10-28T18:16:59.895Z"
   },
   {
    "duration": 4,
    "start_time": "2024-10-28T18:17:00.951Z"
   }
  ],
  "kernelspec": {
   "display_name": "Python 3 (ipykernel)",
   "language": "python",
   "name": "python3"
  },
  "language_info": {
   "codemirror_mode": {
    "name": "ipython",
    "version": 3
   },
   "file_extension": ".py",
   "mimetype": "text/x-python",
   "name": "python",
   "nbconvert_exporter": "python",
   "pygments_lexer": "ipython3",
   "version": "3.9.19"
  },
  "toc": {
   "base_numbering": 1,
   "nav_menu": {},
   "number_sections": true,
   "sideBar": true,
   "skip_h1_title": true,
   "title_cell": "Table of Contents",
   "title_sidebar": "Contents",
   "toc_cell": false,
   "toc_position": {},
   "toc_section_display": true,
   "toc_window_display": false
  }
 },
 "nbformat": 4,
 "nbformat_minor": 2
}
